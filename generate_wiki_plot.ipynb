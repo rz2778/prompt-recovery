{
 "cells": [
  {
   "cell_type": "code",
   "execution_count": 1,
   "metadata": {},
   "outputs": [
    {
     "name": "stderr",
     "output_type": "stream",
     "text": [
      "/opt/anaconda3/envs/torch-gpu/lib/python3.12/site-packages/tqdm/auto.py:21: TqdmWarning: IProgress not found. Please update jupyter and ipywidgets. See https://ipywidgets.readthedocs.io/en/stable/user_install.html\n",
      "  from .autonotebook import tqdm as notebook_tqdm\n"
     ]
    }
   ],
   "source": [
    "import torch\n",
    "import pandas as pd\n",
    "from transformers import AutoModelForCausalLM, AutoTokenizer"
   ]
  },
  {
   "cell_type": "code",
   "execution_count": 2,
   "metadata": {},
   "outputs": [],
   "source": [
    "device = torch.device('cpu')"
   ]
  },
  {
   "cell_type": "code",
   "execution_count": 3,
   "metadata": {},
   "outputs": [],
   "source": [
    "wiki_movie = pd.read_csv('wiki_movie_plots_deduped.csv')\n",
    "wiki_plot = wiki_movie.dropna(subset=['Plot'])['Plot']"
   ]
  },
  {
   "cell_type": "code",
   "execution_count": 82,
   "metadata": {},
   "outputs": [
    {
     "name": "stderr",
     "output_type": "stream",
     "text": [
      "Loading checkpoint shards: 100%|██████████| 2/2 [00:04<00:00,  2.46s/it]\n"
     ]
    }
   ],
   "source": [
    "tokenizer = AutoTokenizer.from_pretrained(\"google/gemma-1.1-2b-it\")\n",
    "model = AutoModelForCausalLM.from_pretrained(\"google/gemma-1.1-2b-it\")"
   ]
  },
  {
   "cell_type": "code",
   "execution_count": 91,
   "metadata": {},
   "outputs": [
    {
     "data": {
      "text/plain": [
       "device(type='cpu')"
      ]
     },
     "execution_count": 91,
     "metadata": {},
     "output_type": "execute_result"
    }
   ],
   "source": [
    "device"
   ]
  },
  {
   "cell_type": "code",
   "execution_count": 84,
   "metadata": {},
   "outputs": [],
   "source": [
    "rewrite_prompts = [\n",
    "    'Explain this to me like I\\'m five.',\n",
    "    'Convert this into a sea shanty.',\n",
    "    'Make this rhyme.',\n",
    "]"
   ]
  },
  {
   "cell_type": "code",
   "execution_count": 85,
   "metadata": {},
   "outputs": [],
   "source": [
    "import random\n",
    "random.seed(0)\n",
    "# This is the prompt format the model expects\n",
    "USER_CHAT_TEMPLATE = \"<start_of_turn>user\\n{prompt}<end_of_turn>\\n<start_of_turn>model\\n\""
   ]
  },
  {
   "cell_type": "code",
   "execution_count": 86,
   "metadata": {},
   "outputs": [
    {
     "data": {
      "text/plain": [
       "str"
      ]
     },
     "execution_count": 86,
     "metadata": {},
     "output_type": "execute_result"
    }
   ],
   "source": [
    "original_texts = wiki_plot[:5]\n",
    "type(USER_CHAT_TEMPLATE.format(prompt=original_texts))"
   ]
  },
  {
   "cell_type": "code",
   "execution_count": 127,
   "metadata": {},
   "outputs": [],
   "source": [
    "def preprocess_plot(rewrite_prompt, plot):\n",
    "    prompt = f'{rewrite_prompt}\\n{plot}'\n",
    "    # USER_CHAT_TEMPLATE.format(prompt=prompt)\n",
    "    return USER_CHAT_TEMPLATE.format(prompt=prompt)    "
   ]
  },
  {
   "cell_type": "code",
   "execution_count": 162,
   "metadata": {},
   "outputs": [],
   "source": [
    "def generate_rewrite(input_text):\n",
    "    input_ids = tokenizer(input_text, return_tensors=\"pt\", padding=True).input_ids.to(device)\n",
    "    outputs = model.generate(input_ids, max_length=500)\n",
    "    return tokenizer.decode(outputs[0], skip_special_tokens=True)"
   ]
  },
  {
   "cell_type": "code",
   "execution_count": 163,
   "metadata": {},
   "outputs": [],
   "source": [
    "def postprocess_rewrite(rewrite, input_text):\n",
    "    if rewrite.startswith(input_text):\n",
    "        return rewrite[len(input_text):]"
   ]
  },
  {
   "cell_type": "code",
   "execution_count": 164,
   "metadata": {},
   "outputs": [],
   "source": [
    "rewrite_data = []\n",
    "for original_text in original_texts:\n",
    "    rewrite_prompt = random.choice(rewrite_prompts)\n",
    "    input_text = preprocess_plot(rewrite_prompt, original_text)\n",
    "    generated_rewrite = generate_rewrite(input_text)\n",
    "    # rewrite = postprocess_rewrite(str(generated_rewrite), input_text)\n",
    "    rewrite_data.append({'original_text': original_text, 'rewrite_prompt': rewrite_prompt, 'rewrite': generated_rewrite})"
   ]
  },
  {
   "cell_type": "code",
   "execution_count": 167,
   "metadata": {},
   "outputs": [],
   "source": [
    "rewrite_data = pd.DataFrame(rewrite_data)"
   ]
  },
  {
   "cell_type": "code",
   "execution_count": 185,
   "metadata": {},
   "outputs": [
    {
     "data": {
      "text/html": [
       "<div>\n",
       "<style scoped>\n",
       "    .dataframe tbody tr th:only-of-type {\n",
       "        vertical-align: middle;\n",
       "    }\n",
       "\n",
       "    .dataframe tbody tr th {\n",
       "        vertical-align: top;\n",
       "    }\n",
       "\n",
       "    .dataframe thead th {\n",
       "        text-align: right;\n",
       "    }\n",
       "</style>\n",
       "<table border=\"1\" class=\"dataframe\">\n",
       "  <thead>\n",
       "    <tr style=\"text-align: right;\">\n",
       "      <th></th>\n",
       "      <th>original_text</th>\n",
       "      <th>rewrite_prompt</th>\n",
       "      <th>rewrite</th>\n",
       "    </tr>\n",
       "  </thead>\n",
       "  <tbody>\n",
       "    <tr>\n",
       "      <th>0</th>\n",
       "      <td>A bartender is working at a saloon, serving dr...</td>\n",
       "      <td>Convert this into a sea shanty.</td>\n",
       "      <td>user\\nConvert this into a sea shanty.\\nA barte...</td>\n",
       "    </tr>\n",
       "    <tr>\n",
       "      <th>1</th>\n",
       "      <td>The moon, painted with a smiling face hangs ov...</td>\n",
       "      <td>Convert this into a sea shanty.</td>\n",
       "      <td>user\\nConvert this into a sea shanty.\\nThe moo...</td>\n",
       "    </tr>\n",
       "    <tr>\n",
       "      <th>2</th>\n",
       "      <td>The film, just over a minute long, is composed...</td>\n",
       "      <td>Make this rhyme.</td>\n",
       "      <td>user\\nMake this rhyme.\\nThe film, just over a ...</td>\n",
       "    </tr>\n",
       "    <tr>\n",
       "      <th>3</th>\n",
       "      <td>Lasting just 61 seconds and consisting of two ...</td>\n",
       "      <td>Explain this to me like I'm five.</td>\n",
       "      <td>user\\nExplain this to me like I'm five.\\nLasti...</td>\n",
       "    </tr>\n",
       "    <tr>\n",
       "      <th>4</th>\n",
       "      <td>The earliest known adaptation of the classic f...</td>\n",
       "      <td>Convert this into a sea shanty.</td>\n",
       "      <td>user\\nConvert this into a sea shanty.\\nThe ear...</td>\n",
       "    </tr>\n",
       "  </tbody>\n",
       "</table>\n",
       "</div>"
      ],
      "text/plain": [
       "                                       original_text  \\\n",
       "0  A bartender is working at a saloon, serving dr...   \n",
       "1  The moon, painted with a smiling face hangs ov...   \n",
       "2  The film, just over a minute long, is composed...   \n",
       "3  Lasting just 61 seconds and consisting of two ...   \n",
       "4  The earliest known adaptation of the classic f...   \n",
       "\n",
       "                      rewrite_prompt  \\\n",
       "0    Convert this into a sea shanty.   \n",
       "1    Convert this into a sea shanty.   \n",
       "2                   Make this rhyme.   \n",
       "3  Explain this to me like I'm five.   \n",
       "4    Convert this into a sea shanty.   \n",
       "\n",
       "                                             rewrite  \n",
       "0  user\\nConvert this into a sea shanty.\\nA barte...  \n",
       "1  user\\nConvert this into a sea shanty.\\nThe moo...  \n",
       "2  user\\nMake this rhyme.\\nThe film, just over a ...  \n",
       "3  user\\nExplain this to me like I'm five.\\nLasti...  \n",
       "4  user\\nConvert this into a sea shanty.\\nThe ear...  "
      ]
     },
     "execution_count": 185,
     "metadata": {},
     "output_type": "execute_result"
    }
   ],
   "source": [
    "rewrite_data.head(5)"
   ]
  },
  {
   "cell_type": "code",
   "execution_count": 180,
   "metadata": {},
   "outputs": [
    {
     "data": {
      "text/plain": [
       "True"
      ]
     },
     "execution_count": 180,
     "metadata": {},
     "output_type": "execute_result"
    }
   ],
   "source": [
    "str(rewrite_data['rewrite'][0]).split('\\n')[2] == str(rewrite_data['original_text'][0])"
   ]
  },
  {
   "cell_type": "code",
   "execution_count": 182,
   "metadata": {},
   "outputs": [
    {
     "data": {
      "text/plain": [
       "['user',\n",
       " 'Convert this into a sea shanty.',\n",
       " \"A bartender is working at a saloon, serving drinks to customers. After he fills a stereotypically Irish man's bucket with beer, Carrie Nation and her followers burst inside. They assault the Irish man, pulling his hat over his eyes and then dumping the beer over his head. The group then begin wrecking the bar, smashing the fixtures, mirrors, and breaking the cash register. The bartender then sprays seltzer water in Nation's face before a group of policemen appear and order everybody to leave.[1]\",\n",
       " 'model',\n",
       " '(Verse 1)',\n",
       " \"At the saloon's dark and grim,\",\n",
       " 'A tale unfolds, a salty whim.',\n",
       " 'A thirsty Irishman, bold and strong,',\n",
       " 'His bucket filled, a tale to be sung.',\n",
       " '',\n",
       " '(Chorus)',\n",
       " 'Heave ho, heave ho, the crowd they came,',\n",
       " 'With fury in their eyes, a watery shame.',\n",
       " 'Pulling caps, smashing frames,',\n",
       " 'The bar in chaos, a watery game.',\n",
       " '',\n",
       " '(Verse 2)',\n",
       " 'Carrie Nation, with fiery grace,',\n",
       " \"Joined the fray, a whirlwind's embrace.\",\n",
       " 'Her followers close in, a ravenous tide,',\n",
       " 'Over the Irishman, their wrath they hide.',\n",
       " '',\n",
       " '(Chorus)',\n",
       " 'Heave ho, heave ho, the crowd they came,',\n",
       " 'With fury in their eyes, a watery shame.',\n",
       " 'Pulling caps, smashing frames,',\n",
       " 'The bar in chaos, a watery game.',\n",
       " '',\n",
       " '(Verse 3)',\n",
       " 'The bartender watched, his heart in dread,',\n",
       " 'As the mayhem spread, a sight to be read.',\n",
       " 'Seltzer water flew, a watery blast,',\n",
       " \"To Carrie Nation's face, a watery cast.\",\n",
       " '',\n",
       " '(Chorus)',\n",
       " 'Heave ho, heave ho, the crowd they came,',\n",
       " 'With fury in their eyes, a watery shame.',\n",
       " 'Pulling caps, smashing frames,',\n",
       " 'The bar in chaos, a watery game.',\n",
       " '',\n",
       " '(Verse 4)',\n",
       " 'Policemen arrived, their orders clear,',\n",
       " 'To disperse the crowd, quell this fear.',\n",
       " 'With orders obeyed, the revelry ceased,',\n",
       " 'And order was restored, a watery peace.']"
      ]
     },
     "execution_count": 182,
     "metadata": {},
     "output_type": "execute_result"
    }
   ],
   "source": [
    "str(rewrite_data['rewrite'][0]).split('\\n')"
   ]
  },
  {
   "cell_type": "code",
   "execution_count": 183,
   "metadata": {},
   "outputs": [],
   "source": [
    "POSTPROCESS_TEMPLATE = \"user\\n{input_text}\\nmodel\\n\""
   ]
  },
  {
   "cell_type": "code",
   "execution_count": null,
   "metadata": {},
   "outputs": [],
   "source": [
    "#write df to csv\n",
    "rewrite_data.to_csv('rewrite_data.csv', index=False)"
   ]
  },
  {
   "cell_type": "code",
   "execution_count": null,
   "metadata": {},
   "outputs": [],
   "source": [
    "#randomly select 5 rows from the dataframe\n",
    "rewrite_data.sample(5)"
   ]
  },
  {
   "cell_type": "code",
   "execution_count": 2,
   "metadata": {},
   "outputs": [],
   "source": [
    "import pandas as pd"
   ]
  },
  {
   "cell_type": "code",
   "execution_count": 3,
   "metadata": {},
   "outputs": [
    {
     "data": {
      "text/html": [
       "<div>\n",
       "<style scoped>\n",
       "    .dataframe tbody tr th:only-of-type {\n",
       "        vertical-align: middle;\n",
       "    }\n",
       "\n",
       "    .dataframe tbody tr th {\n",
       "        vertical-align: top;\n",
       "    }\n",
       "\n",
       "    .dataframe thead th {\n",
       "        text-align: right;\n",
       "    }\n",
       "</style>\n",
       "<table border=\"1\" class=\"dataframe\">\n",
       "  <thead>\n",
       "    <tr style=\"text-align: right;\">\n",
       "      <th></th>\n",
       "      <th>original_text</th>\n",
       "      <th>rewrite_prompt</th>\n",
       "      <th>rewrite</th>\n",
       "    </tr>\n",
       "  </thead>\n",
       "  <tbody>\n",
       "    <tr>\n",
       "      <th>0</th>\n",
       "      <td>The sudden death of her mother brings Myung-eu...</td>\n",
       "      <td>Describe the setup, dissect the plot into risi...</td>\n",
       "      <td>**Setup:**\\n\\n- Myung-eun returns to Jeju afte...</td>\n",
       "    </tr>\n",
       "    <tr>\n",
       "      <th>1</th>\n",
       "      <td>Living in Manhattan, Tom (Zach Braff) is a coo...</td>\n",
       "      <td>Describe the setup, dissect the plot into risi...</td>\n",
       "      <td>**Setup:**\\n\\n- Tom, a struggling cook, and So...</td>\n",
       "    </tr>\n",
       "    <tr>\n",
       "      <th>2</th>\n",
       "      <td>Set in Nottinghamshire, Dek (Rhys Ifans) propo...</td>\n",
       "      <td>Outline the main events, focus on character mo...</td>\n",
       "      <td>**Main Events:**\\n\\n- Dek proposes to Shirley ...</td>\n",
       "    </tr>\n",
       "    <tr>\n",
       "      <th>3</th>\n",
       "      <td>Sakthi (Vijay) is the adopted son of a Madurai...</td>\n",
       "      <td>Summarize the plot, delve into the film’s them...</td>\n",
       "      <td>**Plot Summary:**\\n\\nThe film depicts the tran...</td>\n",
       "    </tr>\n",
       "    <tr>\n",
       "      <th>4</th>\n",
       "      <td>Kate Armstrong (Catherine Zeta-Jones) is the h...</td>\n",
       "      <td>Summarize the plot, integrate various critical...</td>\n",
       "      <td>**Plot Summary:**\\n\\nThe film explores the com...</td>\n",
       "    </tr>\n",
       "    <tr>\n",
       "      <th>...</th>\n",
       "      <td>...</td>\n",
       "      <td>...</td>\n",
       "      <td>...</td>\n",
       "    </tr>\n",
       "    <tr>\n",
       "      <th>995</th>\n",
       "      <td>Recording some new music in an isolated farmho...</td>\n",
       "      <td>Provide a plot overview, detail the main chara...</td>\n",
       "      <td>## Plot Overview:\\n\\nThe film follows Triton, ...</td>\n",
       "    </tr>\n",
       "    <tr>\n",
       "      <th>996</th>\n",
       "      <td>After Digvijay Singh (Amjad Khan) implicates h...</td>\n",
       "      <td>Outline the main events, focus on character mo...</td>\n",
       "      <td>**Main Events:**\\n\\n- Ram Kumar, a simple insu...</td>\n",
       "    </tr>\n",
       "    <tr>\n",
       "      <th>997</th>\n",
       "      <td>In German-occupied Paris, an announcer reports...</td>\n",
       "      <td>Outline the main events, focus on character mo...</td>\n",
       "      <td>**Main Events:**\\n\\n- Five downed pilots from ...</td>\n",
       "    </tr>\n",
       "    <tr>\n",
       "      <th>998</th>\n",
       "      <td>Kenta Date, a senior high school student, is t...</td>\n",
       "      <td>Summarize the plot, integrate various critical...</td>\n",
       "      <td>**Plot Summary:**\\n\\nThe film follows Kenta Da...</td>\n",
       "    </tr>\n",
       "    <tr>\n",
       "      <th>999</th>\n",
       "      <td>At the Central Park Zoo in New York City, Serb...</td>\n",
       "      <td>Outline the main events, focus on character mo...</td>\n",
       "      <td>**Main Events:**\\n\\n- Irena Dubrovna, a fashio...</td>\n",
       "    </tr>\n",
       "  </tbody>\n",
       "</table>\n",
       "<p>1000 rows × 3 columns</p>\n",
       "</div>"
      ],
      "text/plain": [
       "                                         original_text  \\\n",
       "0    The sudden death of her mother brings Myung-eu...   \n",
       "1    Living in Manhattan, Tom (Zach Braff) is a coo...   \n",
       "2    Set in Nottinghamshire, Dek (Rhys Ifans) propo...   \n",
       "3    Sakthi (Vijay) is the adopted son of a Madurai...   \n",
       "4    Kate Armstrong (Catherine Zeta-Jones) is the h...   \n",
       "..                                                 ...   \n",
       "995  Recording some new music in an isolated farmho...   \n",
       "996  After Digvijay Singh (Amjad Khan) implicates h...   \n",
       "997  In German-occupied Paris, an announcer reports...   \n",
       "998  Kenta Date, a senior high school student, is t...   \n",
       "999  At the Central Park Zoo in New York City, Serb...   \n",
       "\n",
       "                                        rewrite_prompt  \\\n",
       "0    Describe the setup, dissect the plot into risi...   \n",
       "1    Describe the setup, dissect the plot into risi...   \n",
       "2    Outline the main events, focus on character mo...   \n",
       "3    Summarize the plot, delve into the film’s them...   \n",
       "4    Summarize the plot, integrate various critical...   \n",
       "..                                                 ...   \n",
       "995  Provide a plot overview, detail the main chara...   \n",
       "996  Outline the main events, focus on character mo...   \n",
       "997  Outline the main events, focus on character mo...   \n",
       "998  Summarize the plot, integrate various critical...   \n",
       "999  Outline the main events, focus on character mo...   \n",
       "\n",
       "                                               rewrite  \n",
       "0    **Setup:**\\n\\n- Myung-eun returns to Jeju afte...  \n",
       "1    **Setup:**\\n\\n- Tom, a struggling cook, and So...  \n",
       "2    **Main Events:**\\n\\n- Dek proposes to Shirley ...  \n",
       "3    **Plot Summary:**\\n\\nThe film depicts the tran...  \n",
       "4    **Plot Summary:**\\n\\nThe film explores the com...  \n",
       "..                                                 ...  \n",
       "995  ## Plot Overview:\\n\\nThe film follows Triton, ...  \n",
       "996  **Main Events:**\\n\\n- Ram Kumar, a simple insu...  \n",
       "997  **Main Events:**\\n\\n- Five downed pilots from ...  \n",
       "998  **Plot Summary:**\\n\\nThe film follows Kenta Da...  \n",
       "999  **Main Events:**\\n\\n- Irena Dubrovna, a fashio...  \n",
       "\n",
       "[1000 rows x 3 columns]"
      ]
     },
     "execution_count": 3,
     "metadata": {},
     "output_type": "execute_result"
    }
   ],
   "source": [
    "pd.read_csv('rewrite_data_wikimovie.csv')"
   ]
  },
  {
   "cell_type": "code",
   "execution_count": null,
   "metadata": {},
   "outputs": [],
   "source": []
  }
 ],
 "metadata": {
  "kernelspec": {
   "display_name": "Python 3",
   "language": "python",
   "name": "python3"
  },
  "language_info": {
   "codemirror_mode": {
    "name": "ipython",
    "version": 3
   },
   "file_extension": ".py",
   "mimetype": "text/x-python",
   "name": "python",
   "nbconvert_exporter": "python",
   "pygments_lexer": "ipython3",
   "version": "3.12.2"
  }
 },
 "nbformat": 4,
 "nbformat_minor": 2
}
